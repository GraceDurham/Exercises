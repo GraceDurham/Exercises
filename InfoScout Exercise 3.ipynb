{
 "cells": [
  {
   "cell_type": "code",
   "execution_count": 1,
   "metadata": {},
   "outputs": [],
   "source": [
    "import pandas as pd"
   ]
  },
  {
   "cell_type": "code",
   "execution_count": 2,
   "metadata": {},
   "outputs": [],
   "source": [
    "transactions = pd.read_csv(\"https://s3.amazonaws.com/isc-isc/trips_gdrive.csv\")\n",
    "transactions['Item Dollars'] = transactions['Item Dollars'].str.replace('$', '')\n",
    "transactions['Item Dollars'] = transactions['Item Dollars'].astype(float)\n",
    "\n",
    "transactions[\"Total\"] = transactions[\"Item Dollars\"] * transactions[\"Item Units\"]"
   ]
  },
  {
   "cell_type": "code",
   "execution_count": 3,
   "metadata": {},
   "outputs": [
    {
     "data": {
      "text/html": [
       "<div>\n",
       "<style scoped>\n",
       "    .dataframe tbody tr th:only-of-type {\n",
       "        vertical-align: middle;\n",
       "    }\n",
       "\n",
       "    .dataframe tbody tr th {\n",
       "        vertical-align: top;\n",
       "    }\n",
       "\n",
       "    .dataframe thead th {\n",
       "        text-align: right;\n",
       "    }\n",
       "</style>\n",
       "<table border=\"1\" class=\"dataframe\">\n",
       "  <thead>\n",
       "    <tr style=\"text-align: right;\">\n",
       "      <th></th>\n",
       "      <th>Trip ID</th>\n",
       "      <th>Date</th>\n",
       "      <th>Retailer</th>\n",
       "      <th>Parent Brand</th>\n",
       "      <th>User ID</th>\n",
       "      <th>Item Dollars</th>\n",
       "      <th>Item Units</th>\n",
       "      <th>Total</th>\n",
       "    </tr>\n",
       "  </thead>\n",
       "  <tbody>\n",
       "    <tr>\n",
       "      <th>0</th>\n",
       "      <td>9518383</td>\n",
       "      <td>1/2/2014</td>\n",
       "      <td>Walmart</td>\n",
       "      <td>Monster</td>\n",
       "      <td>118789</td>\n",
       "      <td>2.0</td>\n",
       "      <td>1</td>\n",
       "      <td>2.0</td>\n",
       "    </tr>\n",
       "    <tr>\n",
       "      <th>1</th>\n",
       "      <td>9536651</td>\n",
       "      <td>1/2/2014</td>\n",
       "      <td>Walmart</td>\n",
       "      <td>Red Bull</td>\n",
       "      <td>191043</td>\n",
       "      <td>2.0</td>\n",
       "      <td>1</td>\n",
       "      <td>2.0</td>\n",
       "    </tr>\n",
       "    <tr>\n",
       "      <th>2</th>\n",
       "      <td>9538542</td>\n",
       "      <td>1/2/2014</td>\n",
       "      <td>Walmart</td>\n",
       "      <td>Red Bull</td>\n",
       "      <td>36949</td>\n",
       "      <td>2.0</td>\n",
       "      <td>1</td>\n",
       "      <td>2.0</td>\n",
       "    </tr>\n",
       "    <tr>\n",
       "      <th>3</th>\n",
       "      <td>9540308</td>\n",
       "      <td>1/2/2014</td>\n",
       "      <td>Walgreens</td>\n",
       "      <td>5 Hour Energy</td>\n",
       "      <td>310300</td>\n",
       "      <td>8.0</td>\n",
       "      <td>2</td>\n",
       "      <td>16.0</td>\n",
       "    </tr>\n",
       "    <tr>\n",
       "      <th>4</th>\n",
       "      <td>9543394</td>\n",
       "      <td>1/2/2014</td>\n",
       "      <td>Kroger</td>\n",
       "      <td>Rockstar</td>\n",
       "      <td>310076</td>\n",
       "      <td>9.0</td>\n",
       "      <td>5</td>\n",
       "      <td>45.0</td>\n",
       "    </tr>\n",
       "  </tbody>\n",
       "</table>\n",
       "</div>"
      ],
      "text/plain": [
       "   Trip ID      Date   Retailer   Parent Brand  User ID  Item Dollars  \\\n",
       "0  9518383  1/2/2014    Walmart        Monster   118789           2.0   \n",
       "1  9536651  1/2/2014    Walmart       Red Bull   191043           2.0   \n",
       "2  9538542  1/2/2014    Walmart       Red Bull    36949           2.0   \n",
       "3  9540308  1/2/2014  Walgreens  5 Hour Energy   310300           8.0   \n",
       "4  9543394  1/2/2014     Kroger       Rockstar   310076           9.0   \n",
       "\n",
       "   Item Units  Total  \n",
       "0           1    2.0  \n",
       "1           1    2.0  \n",
       "2           1    2.0  \n",
       "3           2   16.0  \n",
       "4           5   45.0  "
      ]
     },
     "execution_count": 3,
     "metadata": {},
     "output_type": "execute_result"
    }
   ],
   "source": [
    "transactions.head()"
   ]
  },
  {
   "cell_type": "code",
   "execution_count": 5,
   "metadata": {},
   "outputs": [
    {
     "data": {
      "text/plain": [
       "Parent Brand   User ID\n",
       "5 Hour Energy  975         15.0\n",
       "               1379         3.0\n",
       "               1999         5.0\n",
       "               3013         3.0\n",
       "               3151         8.0\n",
       "               4656         5.0\n",
       "               4913         3.0\n",
       "               5335        10.0\n",
       "               8271         2.0\n",
       "               10062        2.0\n",
       "               10280        6.0\n",
       "               12289       30.0\n",
       "               13348       23.0\n",
       "               13959        3.0\n",
       "               14211       18.0\n",
       "               15651        5.0\n",
       "               15948        5.0\n",
       "               16827        7.0\n",
       "               16958        5.0\n",
       "               17300       16.0\n",
       "               17818        5.0\n",
       "               19360        2.0\n",
       "               19470       18.0\n",
       "               19696        5.0\n",
       "               19701        5.0\n",
       "               19943       15.0\n",
       "               23545        3.0\n",
       "               24076       70.0\n",
       "               24113       40.0\n",
       "               24401       25.0\n",
       "                          ...  \n",
       "Rockstar       552548       1.0\n",
       "               553541       2.0\n",
       "               553595       2.0\n",
       "               555148       2.0\n",
       "               555467       2.0\n",
       "               555707      10.0\n",
       "               556004      16.0\n",
       "               557422       2.0\n",
       "               558172       2.0\n",
       "               558472       2.0\n",
       "               558669       4.0\n",
       "               559125      80.0\n",
       "               560260       2.0\n",
       "               560693       8.0\n",
       "               560840       9.0\n",
       "               562307       5.0\n",
       "               562408     121.0\n",
       "               562726       2.0\n",
       "               563092       2.0\n",
       "               563245       8.0\n",
       "               563418       1.0\n",
       "               565693       4.0\n",
       "               567449       1.0\n",
       "               570348      20.0\n",
       "               570863       8.0\n",
       "               572488      32.0\n",
       "               576439       6.0\n",
       "               577521      48.0\n",
       "               578822       6.0\n",
       "               579685       1.0\n",
       "Name: Total, Length: 12834, dtype: float64"
      ]
     },
     "execution_count": 5,
     "metadata": {},
     "output_type": "execute_result"
    }
   ],
   "source": [
    "total_amount_by_household = transactions.groupby([\"Parent Brand\",\"User ID\"])[\"Total\"].sum()\n",
    "total_amount_by_household\n",
    "# brand = total_amount_by_household.idxmax()[0]\n",
    "# brand\n"
   ]
  },
  {
   "cell_type": "code",
   "execution_count": 7,
   "metadata": {},
   "outputs": [
    {
     "data": {
      "text/plain": [
       "'Rockstar'"
      ]
     },
     "execution_count": 7,
     "metadata": {},
     "output_type": "execute_result"
    }
   ],
   "source": [
    "brand = total_amount_by_household.idxmax()[0]\n",
    "brand"
   ]
  },
  {
   "cell_type": "code",
   "execution_count": null,
   "metadata": {},
   "outputs": [],
   "source": []
  }
 ],
 "metadata": {
  "kernelspec": {
   "display_name": "Python 2",
   "language": "python",
   "name": "python2"
  },
  "language_info": {
   "codemirror_mode": {
    "name": "ipython",
    "version": 2
   },
   "file_extension": ".py",
   "mimetype": "text/x-python",
   "name": "python",
   "nbconvert_exporter": "python",
   "pygments_lexer": "ipython2",
   "version": "2.7.12"
  }
 },
 "nbformat": 4,
 "nbformat_minor": 2
}
