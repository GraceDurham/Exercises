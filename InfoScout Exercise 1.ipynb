{
 "cells": [
  {
   "cell_type": "code",
   "execution_count": 1,
   "metadata": {},
   "outputs": [],
   "source": [
    "import pandas as pd"
   ]
  },
  {
   "cell_type": "code",
   "execution_count": 2,
   "metadata": {},
   "outputs": [],
   "source": [
    "transactions = pd.read_csv(\"https://s3.amazonaws.com/isc-isc/trips_gdrive.csv\")\n",
    "transactions = transactions.head(15)\n",
    "transactions['Item Dollars'] = transactions['Item Dollars'].str.replace('$', '')\n",
    "transactions['Item Dollars'] = transactions['Item Dollars'].astype(float)\n",
    "\n",
    "transactions[\"Total\"] = transactions[\"Item Dollars\"] * transactions[\"Item Units\"]"
   ]
  },
  {
   "cell_type": "code",
   "execution_count": 3,
   "metadata": {},
   "outputs": [
    {
     "data": {
      "text/plain": [
       "Parent Brand   Retailer \n",
       "5 Hour Energy  Kroger        3.0\n",
       "               Walgreens    16.0\n",
       "               Walmart      10.0\n",
       "Monster        Kroger        8.0\n",
       "               Walmart      17.0\n",
       "Red Bull       Kroger       26.0\n",
       "               Publix        7.0\n",
       "               Walgreens     2.0\n",
       "               Walmart       4.0\n",
       "Rockstar       CVS           6.0\n",
       "               Kroger       45.0\n",
       "Name: Total, dtype: float64"
      ]
     },
     "execution_count": 3,
     "metadata": {},
     "output_type": "execute_result"
    }
   ],
   "source": [
    "transactions_by_brand_and_retailer = transactions.groupby([\"Parent Brand\", \"Retailer\"])[\"Total\"].sum()\n",
    "transactions_by_brand_and_retailer"
   ]
  },
  {
   "cell_type": "code",
   "execution_count": 7,
   "metadata": {},
   "outputs": [
    {
     "data": {
      "text/plain": [
       "Retailer\n",
       "CVS           6.0\n",
       "Kroger       82.0\n",
       "Publix        7.0\n",
       "Walgreens    18.0\n",
       "Walmart      31.0\n",
       "Name: Total, dtype: float64"
      ]
     },
     "execution_count": 7,
     "metadata": {},
     "output_type": "execute_result"
    }
   ],
   "source": [
    "total_sales_per_retailer = transactions.groupby([\"Retailer\"])[\"Total\"].sum()\n",
    "total_sales_per_retailer"
   ]
  },
  {
   "cell_type": "code",
   "execution_count": 8,
   "metadata": {},
   "outputs": [
    {
     "data": {
      "text/plain": [
       "'CVS'"
      ]
     },
     "execution_count": 8,
     "metadata": {},
     "output_type": "execute_result"
    }
   ],
   "source": [
    "(transactions_by_brand_and_retailer/total_sales_per_retailer)[\"Rockstar\"].idxmax()"
   ]
  },
  {
   "cell_type": "code",
   "execution_count": null,
   "metadata": {},
   "outputs": [],
   "source": []
  }
 ],
 "metadata": {
  "kernelspec": {
   "display_name": "Python 2",
   "language": "python",
   "name": "python2"
  },
  "language_info": {
   "codemirror_mode": {
    "name": "ipython",
    "version": 2
   },
   "file_extension": ".py",
   "mimetype": "text/x-python",
   "name": "python",
   "nbconvert_exporter": "python",
   "pygments_lexer": "ipython2",
   "version": "2.7.12"
  }
 },
 "nbformat": 4,
 "nbformat_minor": 2
}
